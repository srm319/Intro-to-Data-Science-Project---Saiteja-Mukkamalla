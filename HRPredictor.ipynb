{
 "cells": [
  {
   "cell_type": "code",
   "execution_count": 1,
   "id": "2b45f6ee-8bd3-450d-bba1-a79bbf081a62",
   "metadata": {},
   "outputs": [
    {
     "name": "stdout",
     "output_type": "stream",
     "text": [
      "\n",
      "\u001b[1m[\u001b[0m\u001b[34;49mnotice\u001b[0m\u001b[1;39;49m]\u001b[0m\u001b[39;49m A new release of pip is available: \u001b[0m\u001b[31;49m24.2\u001b[0m\u001b[39;49m -> \u001b[0m\u001b[32;49m25.1.1\u001b[0m\n",
      "\u001b[1m[\u001b[0m\u001b[34;49mnotice\u001b[0m\u001b[1;39;49m]\u001b[0m\u001b[39;49m To update, run: \u001b[0m\u001b[32;49mpip install --upgrade pip\u001b[0m\n"
     ]
    }
   ],
   "source": [
    "!pip install -q pybaseball pandas numpy scikit-learn matplotlib seaborn\n"
   ]
  },
  {
   "cell_type": "code",
   "execution_count": 2,
   "id": "1f388265-4d17-4e9b-a244-ba5134d25088",
   "metadata": {},
   "outputs": [
    {
     "name": "stdout",
     "output_type": "stream",
     "text": [
      "\n",
      "\u001b[1m[\u001b[0m\u001b[34;49mnotice\u001b[0m\u001b[1;39;49m]\u001b[0m\u001b[39;49m A new release of pip is available: \u001b[0m\u001b[31;49m24.2\u001b[0m\u001b[39;49m -> \u001b[0m\u001b[32;49m25.1.1\u001b[0m\n",
      "\u001b[1m[\u001b[0m\u001b[34;49mnotice\u001b[0m\u001b[1;39;49m]\u001b[0m\u001b[39;49m To update, run: \u001b[0m\u001b[32;49mpip install --upgrade pip\u001b[0m\n"
     ]
    }
   ],
   "source": [
    "!pip install -q pybaseball --upgrade\n"
   ]
  },
  {
   "cell_type": "code",
   "execution_count": 3,
   "id": "ac90c4b0-af71-4b13-9996-25ddea5a81e1",
   "metadata": {},
   "outputs": [],
   "source": [
    "from pybaseball import statcast, cache, batting_stats\n",
    "import warnings\n",
    "import pandas as pd\n",
    "import numpy as np\n",
    "from sklearn.model_selection import train_test_split\n",
    "from sklearn.preprocessing import PolynomialFeatures\n",
    "from sklearn.linear_model import Lasso\n",
    "from sklearn.metrics import mean_squared_error, mean_absolute_error, r2_score\n",
    "import matplotlib.pyplot as plt\n",
    "import seaborn as sns\n"
   ]
  },
  {
   "cell_type": "code",
   "execution_count": 4,
   "id": "7434c698-ed68-45ae-91c2-89681820e8a2",
   "metadata": {},
   "outputs": [
    {
     "name": "stdout",
     "output_type": "stream",
     "text": [
      "Initiating Download for all Statcast Data(will take some time due to amount of data)\n",
      "This is a large query, it may take a moment to complete\n"
     ]
    },
    {
     "name": "stderr",
     "output_type": "stream",
     "text": [
      "100%|██████████| 154/154 [01:25<00:00,  1.81it/s]\n"
     ]
    }
   ],
   "source": [
    "warnings.filterwarnings('ignore', category=FutureWarning)\n",
    "cache.enable()\n",
    "print(\"Initiating Download for all Statcast Data(will take some time due to amount of data)\")\n",
    "data = statcast(start_dt=\"2024-04-01\", end_dt=\"2024-09-01\")\n"
   ]
  },
  {
   "cell_type": "code",
   "execution_count": 5,
   "id": "7748c6b3-e6c7-4400-903d-702ec3aed629",
   "metadata": {},
   "outputs": [
    {
     "name": "stdout",
     "output_type": "stream",
     "text": [
      "\n",
      "Sample of Statcast Data\n",
      "     pitch_type  game_date  release_speed  release_pos_x  release_pos_z  \\\n",
      "1674         FF 2024-09-01           87.8          -3.46           5.87   \n",
      "1716         SI 2024-09-01           90.0          -3.07           5.91   \n",
      "1766         FF 2024-09-01           87.1          -3.57            5.8   \n",
      "1781         FF 2024-09-01           87.3          -3.34           5.79   \n",
      "1835         SI 2024-09-01           86.7          -3.25           5.94   \n",
      "\n",
      "       player_name  batter  pitcher     events    description  ...  \\\n",
      "1674  Floro, Dylan  681624   571670  strikeout  called_strike  ...   \n",
      "1716  Floro, Dylan  681624   571670       None           ball  ...   \n",
      "1766  Floro, Dylan  681624   571670       None           foul  ...   \n",
      "1781  Floro, Dylan  681624   571670       None  called_strike  ...   \n",
      "1835  Floro, Dylan  500743   571670  field_out  hit_into_play  ...   \n",
      "\n",
      "      n_thruorder_pitcher  n_priorpa_thisgame_player_at_bat  \\\n",
      "1674                    1                                 2   \n",
      "1716                    1                                 2   \n",
      "1766                    1                                 2   \n",
      "1781                    1                                 2   \n",
      "1835                    1                                 0   \n",
      "\n",
      "      pitcher_days_since_prev_game  batter_days_since_prev_game  \\\n",
      "1674                             2                           15   \n",
      "1716                             2                           15   \n",
      "1766                             2                           15   \n",
      "1781                             2                           15   \n",
      "1835                             2                            1   \n",
      "\n",
      "      pitcher_days_until_next_game batter_days_until_next_game  \\\n",
      "1674                             6                           3   \n",
      "1716                             6                           3   \n",
      "1766                             6                           3   \n",
      "1781                             6                           3   \n",
      "1835                             6                           1   \n",
      "\n",
      "     api_break_z_with_gravity api_break_x_arm api_break_x_batter_in arm_angle  \n",
      "1674                     2.09            0.63                  0.63      33.9  \n",
      "1716                     2.39            1.41                  1.41      38.7  \n",
      "1766                     1.73             0.5                   0.5      33.5  \n",
      "1781                     1.88            0.77                  0.77      35.3  \n",
      "1835                     2.32            1.09                  1.09      37.6  \n",
      "\n",
      "[5 rows x 113 columns]\n",
      "\n",
      "All Columns(features) in Dataset:\n",
      "['pitch_type', 'game_date', 'release_speed', 'release_pos_x', 'release_pos_z', 'player_name', 'batter', 'pitcher', 'events', 'description', 'spin_dir', 'spin_rate_deprecated', 'break_angle_deprecated', 'break_length_deprecated', 'zone', 'des', 'game_type', 'stand', 'p_throws', 'home_team', 'away_team', 'type', 'hit_location', 'bb_type', 'balls', 'strikes', 'game_year', 'pfx_x', 'pfx_z', 'plate_x', 'plate_z', 'on_3b', 'on_2b', 'on_1b', 'outs_when_up', 'inning', 'inning_topbot', 'hc_x', 'hc_y', 'tfs_deprecated', 'tfs_zulu_deprecated', 'umpire', 'sv_id', 'vx0', 'vy0', 'vz0', 'ax', 'ay', 'az', 'sz_top', 'sz_bot', 'hit_distance_sc', 'launch_speed', 'launch_angle', 'effective_speed', 'release_spin_rate', 'release_extension', 'game_pk', 'fielder_2', 'fielder_3', 'fielder_4', 'fielder_5', 'fielder_6', 'fielder_7', 'fielder_8', 'fielder_9', 'release_pos_y', 'estimated_ba_using_speedangle', 'estimated_woba_using_speedangle', 'woba_value', 'woba_denom', 'babip_value', 'iso_value', 'launch_speed_angle', 'at_bat_number', 'pitch_number', 'pitch_name', 'home_score', 'away_score', 'bat_score', 'fld_score', 'post_away_score', 'post_home_score', 'post_bat_score', 'post_fld_score', 'if_fielding_alignment', 'of_fielding_alignment', 'spin_axis', 'delta_home_win_exp', 'delta_run_exp', 'bat_speed', 'swing_length', 'estimated_slg_using_speedangle', 'delta_pitcher_run_exp', 'hyper_speed', 'home_score_diff', 'bat_score_diff', 'home_win_exp', 'bat_win_exp', 'age_pit_legacy', 'age_bat_legacy', 'age_pit', 'age_bat', 'n_thruorder_pitcher', 'n_priorpa_thisgame_player_at_bat', 'pitcher_days_since_prev_game', 'batter_days_since_prev_game', 'pitcher_days_until_next_game', 'batter_days_until_next_game', 'api_break_z_with_gravity', 'api_break_x_arm', 'api_break_x_batter_in', 'arm_angle']\n"
     ]
    }
   ],
   "source": [
    "print(\"\\nSample of Statcast Data\")\n",
    "print(data.head())\n",
    "print(\"\\nAll Columns(features) in Dataset:\")\n",
    "print(data.columns.tolist())"
   ]
  },
  {
   "cell_type": "code",
   "execution_count": 6,
   "id": "972bb2a7-a032-4e7b-ac6d-df0e32023696",
   "metadata": {},
   "outputs": [
    {
     "name": "stdout",
     "output_type": "stream",
     "text": [
      "\n",
      "Sample Dataset with 'barrel' and 'plate_appearance' columns:\n",
      "             player_name  exit_velocity  launch_angle  events  batter  barrel  \\\n",
      "2065        Floro, Dylan           87.6            14  single  605131       0   \n",
      "2819  Hernández, Enrique           94.0            13  single  545341       0   \n",
      "3016  Hernández, Enrique           95.6            17  single  641645       0   \n",
      "3215  Hernández, Enrique           90.3            14  double  678489       0   \n",
      "3996  Hernández, Enrique           96.0             8  single  682998       0   \n",
      "\n",
      "      plate_appearance  \n",
      "2065                 1  \n",
      "2819                 1  \n",
      "3016                 1  \n",
      "3215                 1  \n",
      "3996                 1  \n"
     ]
    }
   ],
   "source": [
    "colsofInterest = ['player_name', 'launch_speed', 'launch_angle', 'events', 'batter']\n",
    "\n",
    "if all(col in data.columns for col in colsofInterest):\n",
    "    dataframe = data[colsofInterest].copy()\n",
    "else:\n",
    "    raise ValueError(\"At least 1 column is missing from the dataset\")\n",
    "\n",
    "\n",
    "dataframe = dataframe.rename(columns={'launch_speed': 'exit_velocity'})\n",
    "dataframe = dataframe.dropna(subset=['exit_velocity', 'launch_angle'])\n",
    "\n",
    "eventsOfMeaning = ['single', 'double', 'triple', 'home_run']\n",
    "dataframe = dataframe[dataframe['events'].isin(eventsOfMeaning)]\n",
    "\n",
    "dataframe['barrel'] = ((dataframe['exit_velocity'] >= 98) & (dataframe['launch_angle'].between(26, 30))).astype(int)\n",
    "\n",
    "dataframe['plate_appearance'] = 1\n",
    "\n",
    "print(\"\\nSample Dataset with 'barrel' and 'plate_appearance' columns:\")\n",
    "print(dataframe.head())\n"
   ]
  },
  {
   "cell_type": "code",
   "execution_count": 7,
   "id": "b666bb31-1fc9-44f6-9898-828e3f0af288",
   "metadata": {},
   "outputs": [
    {
     "name": "stdout",
     "output_type": "stream",
     "text": [
      "\n",
      "Sample of Aggregated Player Metrics:\n",
      "         player_name  exit_velocity  launch_angle    barrel  home_runs  \\\n",
      "0     Abbott, Andrew      92.093701     12.937008  0.070866         25   \n",
      "1       Abreu, Bryan      93.598039      9.509804  0.000000          5   \n",
      "2        Adam, Jason      93.557576     14.272727  0.121212          5   \n",
      "3      Adams, Austin      91.148649     14.540541  0.027027          4   \n",
      "4         Adcock, Ty      98.228571     20.428571  0.142857          4   \n",
      "..               ...            ...           ...       ...        ...   \n",
      "792     Zerpa, Angel      96.964815      3.388889  0.055556          6   \n",
      "793     Zuber, Tyler     102.366667     20.333333  0.000000          1   \n",
      "794  Zulueta, Yosver     100.938462      6.153846  0.000000          1   \n",
      "795   Zuñiga, Guillo           93.1          -2.2  0.000000          0   \n",
      "796   de Geus, Brett      92.445455     12.545455  0.000000          0   \n",
      "\n",
      "     plate_appearances  \n",
      "0                  127  \n",
      "1                   51  \n",
      "2                   33  \n",
      "3                   37  \n",
      "4                    7  \n",
      "..                 ...  \n",
      "792                 54  \n",
      "793                  3  \n",
      "794                 13  \n",
      "795                  5  \n",
      "796                 11  \n",
      "\n",
      "[797 rows x 6 columns]\n"
     ]
    }
   ],
   "source": [
    "\n",
    "aggregatedDataframe = dataframe.groupby('player_name').agg({ 'exit_velocity': 'mean', 'launch_angle': 'mean', 'barrel': 'mean',\n",
    "    'events': lambda x: (x == 'home_run').sum(), 'plate_appearance': 'sum'  }).rename(columns={\n",
    "    'events': 'home_runs','plate_appearance': 'plate_appearances'}).reset_index()\n",
    "\n",
    "print(\"\\nSample of Aggregated Player Metrics:\")\n",
    "print(aggregatedDataframe)\n",
    "\n"
   ]
  },
  {
   "cell_type": "code",
   "execution_count": 8,
   "id": "3b651372-3630-4037-b4ce-d7eb2c0e6b5d",
   "metadata": {},
   "outputs": [
    {
     "name": "stdout",
     "output_type": "stream",
     "text": [
      "\n",
      "Model Evaluations:\n",
      "MSE: 0.01\n",
      "MAE: 0.07\n",
      "R^2: 0.436\n"
     ]
    }
   ],
   "source": [
    "features = ['exit_velocity', 'launch_angle', 'barrel']\n",
    "\n",
    "X = aggregatedDataframe[features]\n",
    "y = aggregatedDataframe['home_runs'] / aggregatedDataframe['plate_appearances']\n",
    "\n",
    "polyexpo = PolynomialFeatures(degree=2, include_bias=False)\n",
    "X_poly = polyexpo.fit_transform(X)\n",
    "X_train, X_test, y_train, y_test = train_test_split(X_poly, y, test_size=0.2, random_state=42)\n",
    "model = Lasso(alpha=0.1)\n",
    "model.fit(X_train, y_train)\n",
    "y_pred = model.predict(X_test)\n",
    "\n",
    "mse = mean_squared_error(y_test, y_pred)\n",
    "mae = mean_absolute_error(y_test, y_pred)\n",
    "r2 = r2_score(y_test, y_pred)\n",
    "print(f\"\\nModel Evaluations:\")\n",
    "print(f\"MSE: {mse:.2f}\")\n",
    "print(f\"MAE: {mae:.2f}\")\n",
    "print(f\"R^2: {r2:.3f}\")"
   ]
  },
  {
   "cell_type": "code",
   "execution_count": 9,
   "id": "7a8fd379-e062-4c25-9d79-a13623f4c4e1",
   "metadata": {},
   "outputs": [
    {
     "name": "stdout",
     "output_type": "stream",
     "text": [
      "\n",
      "Sample Predictions (Alphabetical):\n",
      "                  Player  Actual HR rate  Actual HRs  Predicted HRs\n",
      "151          Adam, Jason        0.151515           5            6.0\n",
      "144         Akin, Keegan        0.148936           7            6.1\n",
      "113     Alexander, Scott        0.090909           2            2.0\n",
      "35       Anderson, Tyler        0.152174          21           22.0\n",
      "127         Ashby, Aaron        0.222222           2            0.8\n",
      "..                   ...             ...         ...            ...\n",
      "86     Wrobleski, Justin        0.290323           9            7.0\n",
      "67   Yamamoto, Yoshinobu        0.107143           6            7.5\n",
      "72          Zerpa, Angel        0.111111           6            4.3\n",
      "38          Zuber, Tyler        0.333333           1            0.9\n",
      "156       Zuñiga, Guillo        0.000000           0            0.1\n",
      "\n",
      "[160 rows x 4 columns]\n"
     ]
    }
   ],
   "source": [
    "predictedDataframe = pd.DataFrame({'Player': aggregatedDataframe.iloc[y_test.index]['player_name'].values,\n",
    "    'Actual HR rate': y_test.values,\n",
    "    'Predicted HR rate': y_pred,\n",
    "    'Actual HRs': aggregatedDataframe.iloc[y_test.index]['home_runs'].values \n",
    "})\n",
    "\n",
    "predictedDataframe['Predicted HRs'] = np.round(predictedDataframe['Predicted HR rate'] * aggregatedDataframe.iloc[y_test.index]['plate_appearances'].values, 1)\n",
    "predictedDataframe = predictedDataframe.sort_values(by='Player')\n",
    "\n",
    "print(\"\\nSample Predictions (Alphabetical):\")\n",
    "print(predictedDataframe[['Player', 'Actual HR rate', 'Actual HRs', 'Predicted HRs']])\n"
   ]
  },
  {
   "cell_type": "code",
   "execution_count": 10,
   "id": "312747da-281f-46b3-8335-9649fadc10f7",
   "metadata": {},
   "outputs": [
    {
     "data": {
      "image/png": "[encoded data removed]",
      "text/plain": [
       "<Figure size 640x480 with 1 Axes>"
      ]
     },
     "metadata": {},
     "output_type": "display_data"
    }
   ],
   "source": [
    "sns.set(style=\"whitegrid\")\n",
    "sns.scatterplot(x='Actual HRs', y='Predicted HRs', data=predictedDataframe)\n",
    "\n",
    "findMax = max(predictedDataframe['Actual HRs'].max(), predictedDataframe['Predicted HRs'].max())\n",
    "plt.plot([0, findMax], [0, findMax], color='blue', linestyle='--')\n",
    "\n",
    "plt.title(\"Predicted vs Actual Home Runs\")\n",
    "plt.xlabel(\"Actual Home Runs\")\n",
    "plt.ylabel(\"Predicted Home Runs\")\n",
    "plt.tight_layout()\n",
    "plt.show()\n"
   ]
  },
  {
   "cell_type": "code",
   "execution_count": 11,
   "id": "676ccfe1-c496-4fa2-b9bc-3c59ade7fdf8",
   "metadata": {},
   "outputs": [
    {
     "name": "stdout",
     "output_type": "stream",
     "text": [
      "\n",
      "Full Dataset of Predicted HRs and HR Rate for each Player:\n",
      "         player_name   HR_rate  home_runs  Predicted_HRs\n",
      "0     Abbott, Andrew  0.196850         25           18.4\n",
      "1       Abreu, Bryan  0.098039          5            5.2\n",
      "2        Adam, Jason  0.151515          5            6.0\n",
      "3      Adams, Austin  0.108108          4            5.4\n",
      "4         Adcock, Ty  0.571429          4            2.1\n",
      "..               ...       ...        ...            ...\n",
      "792     Zerpa, Angel  0.111111          6            4.7\n",
      "793     Zuber, Tyler  0.333333          1            0.9\n",
      "794  Zulueta, Yosver  0.076923          1            1.5\n",
      "795   Zuñiga, Guillo  0.000000          0            0.1\n",
      "796   de Geus, Brett  0.000000          0            1.4\n",
      "\n",
      "[797 rows x 4 columns]\n"
     ]
    }
   ],
   "source": [
    "features = ['exit_velocity', 'launch_angle', 'barrel']\n",
    "X = aggregatedDataframe[features]\n",
    "\n",
    "poly = PolynomialFeatures(degree=2, include_bias=False)\n",
    "XFull = poly.fit_transform(X)\n",
    "\n",
    "y = aggregatedDataframe['home_runs'] / aggregatedDataframe['plate_appearances']  \n",
    "model = Lasso(alpha=0.1)\n",
    "model.fit(XFull, y)\n",
    "yFull = model.predict(XFull)\n",
    "predictedHomeruns = np.round(yFull * aggregatedDataframe['plate_appearances'], 1)\n",
    "\n",
    "aggregatedDataframe['Predicted_HRs'] = predictedHomeruns\n",
    "aggregatedDataframe['HR_rate'] = y \n",
    "\n",
    "aggregatedDataframe = aggregatedDataframe.sort_values(by='player_name')\n",
    "print(\"\\nFull Dataset of Predicted HRs and HR Rate for each Player:\")\n",
    "print(aggregatedDataframe[['player_name', 'HR_rate','home_runs', 'Predicted_HRs']])\n",
    "\n",
    "\n"
   ]
  },
  {
   "cell_type": "code",
   "execution_count": null,
   "id": "382d2514-4ed2-4a9e-a724-3533a991370d",
   "metadata": {},
   "outputs": [],
   "source": [
    "inputPerson = input(\"Input a player name (e.g., Abbott, Andrew): \")\n",
    "\n",
    "player = aggregatedDataframe[aggregatedDataframe['player_name'].str.lower() == inputPerson.lower()]\n",
    "\n",
    "if player.empty:\n",
    "    print(\"Player is not in the Dataset! Please enter another player!\")\n",
    "else:\n",
    "    inputX = player[['exit_velocity', 'launch_angle', 'barrel']]\n",
    "    inputPolyX = poly.transform(inputX) \n",
    "    predHrRate = model.predict(inputPolyX)[0]\n",
    "    playerName = player['player_name'].values[0]\n",
    "    numAppearances = player['plate_appearances'].values[0]\n",
    "    predictedHRs = np.round(predHrRate * numAppearances, 1)\n",
    "    print(f\"\\nPredicted Home Runs for {playerName}: {predictedHRs:.1f}\")\n",
    "\n"
   ]
  }
 ],
 "metadata": {
  "kernelspec": {
   "display_name": "Python 3 (ipykernel)",
   "language": "python",
   "name": "python3"
  },
  "language_info": {
   "codemirror_mode": {
    "name": "ipython",
    "version": 3
   },
   "file_extension": ".py",
   "mimetype": "text/x-python",
   "name": "python",
   "nbconvert_exporter": "python",
   "pygments_lexer": "ipython3",
   "version": "3.12.7"
  }
 },
 "nbformat": 4,
 "nbformat_minor": 5
}
